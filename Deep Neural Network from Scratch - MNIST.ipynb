{
 "cells": [
  {
   "cell_type": "code",
   "execution_count": 110,
   "metadata": {},
   "outputs": [],
   "source": [
    "import numpy as np\n",
    "import sys\n",
    "import math\n",
    "import matplotlib.pyplot as plt\n",
    "from matplotlib.image import imread\n",
    "sys.path.append(os.pardir)\n",
    "# import tensorflow only to take the data, !! NO prebuilt optimization was used !!\n",
    "import tensorflow as tf\n",
    "import pickle\n",
    "import os\n",
    "import time\n",
    "\n",
    "\n",
    "\n",
    "\n",
    "(X_train, Y_train_hot), (X_test, Y_test_hot) = tf.keras.datasets.mnist.load_data()\n",
    "train_images = X_train\n",
    "test_images = X_test\n",
    "\n",
    "m = X_train.shape[0]\n",
    "m_test = X_test.shape[0]\n",
    "n_x = X_train.shape[1] * X_train.shape[2]\n",
    "c = 10 # 10 classes\n",
    "\n",
    "# change 28*28 images into a (n_x * m) matrix\n",
    "X_train = X_train.reshape(m, -1).T / 255\n",
    "X_test = X_test.reshape(m_test, -1).T / 255\n",
    "\n",
    "# normalize input X\n",
    "mu_X = 1/m * np.sum(X_train, axis = 1, keepdims = True)\n",
    "VAR_X = 1/m * np.sum((X_train - mu_X) **2)\n",
    "X_train = (X_train - mu_X) / VAR_X\n",
    "\n",
    "# convert Y_train from one hot to (c*m) matrix \n",
    "Y_train = np.zeros((c, m))\n",
    "Y_train[Y_train_hot, np.arange(m)] = 1\n",
    "# convert Y_test from one hot to (c*m_test) matrix\n",
    "Y_test = np.zeros((c, m_test))\n",
    "Y_test[Y_test_hot, np.arange(m_test)] = 1\n",
    "\n",
    "L = 3 # not including the input layer\n",
    "layers = [n_x, 1000, 400, c]"
   ]
  },
  {
   "cell_type": "code",
   "execution_count": 55,
   "metadata": {},
   "outputs": [],
   "source": [
    "def pretrain_load():\n",
    "    parameters = {}\n",
    "    # you need to download the pretrained model and replace my location by your download file location\n",
    "    # below is my file location\n",
    "    Wfile = open(r\"C:\\Users\\nhunh\\Params_update_4\", \"rb\")\n",
    "    parameters = pickle.load(Wfile)\n",
    "    Wfile.close()\n",
    "    \n",
    "    return parameters"
   ]
  },
  {
   "cell_type": "code",
   "execution_count": 56,
   "metadata": {},
   "outputs": [],
   "source": [
    "# function to initialize learning parameters for each layer\n",
    "def initialize_params(layers):\n",
    "    params = {}\n",
    "    for l in range(1, L+1):\n",
    "        # He et. al, 2015 initialization\n",
    "        params[\"W\" + str(l)] = np.random.randn(layers[l], layers[l-1]) * np.sqrt(2 / layers[l-1])\n",
    "        params[\"b\" + str(l)] = np.zeros((layers[l], 1))\n",
    "    \n",
    "    return params"
   ]
  },
  {
   "cell_type": "code",
   "execution_count": 57,
   "metadata": {},
   "outputs": [],
   "source": [
    "# compute activation Relu\n",
    "def relu(Z):\n",
    "    return np.maximum(0, Z)\n",
    "\n",
    "# compute activaiton Softmax\n",
    "def softmax(Z):\n",
    "    T = np.exp(Z)\n",
    "    return T / (np.sum(T, axis = 0, keepdims = True))\n",
    "\n",
    "def sigmoid(Z):\n",
    "    return 1 / (1 + np.exp(-Z))\n"
   ]
  },
  {
   "cell_type": "code",
   "execution_count": 58,
   "metadata": {},
   "outputs": [],
   "source": [
    "# compute dZ if the activation function is ReLU\n",
    "def d_relu(Z):\n",
    "    return (Z > 0).astype(float)\n",
    "\n",
    "def d_sigmoid(A):\n",
    "    return A * (1-A)"
   ]
  },
  {
   "cell_type": "code",
   "execution_count": 59,
   "metadata": {},
   "outputs": [],
   "source": [
    "# generate random mini-batches with given size\n",
    "def random_minibatches(X, Y, mini_batch_size):\n",
    "    mini_batches = []\n",
    "    \n",
    "    # randomly shuffle the data set\n",
    "    permu = list(np.random.permutation(m))\n",
    "    X_shuffled = X[:, permu]\n",
    "    Y_shuffled = Y[:, permu]\n",
    "    \n",
    "    num_full_mini = m // mini_batch_size\n",
    "    \n",
    "    for i in range(0, num_full_mini):\n",
    "        mini_X = X_shuffled[:, i * mini_batch_size : (i+1) * mini_batch_size]\n",
    "        mini_Y = Y_shuffled[:, i * mini_batch_size : (i+1) * mini_batch_size]\n",
    "        mini_batches.append((mini_X, mini_Y))\n",
    "    \n",
    "    if m % mini_batch_size != 0:\n",
    "        mini_X = X_shuffled[:, m - m % mini_batch_size : m+1]\n",
    "        mini_Y = Y_shuffled[:, m - m % mini_batch_size : m+1]\n",
    "        mini_batches.append((mini_X, mini_Y))\n",
    "        \n",
    "    return mini_batches"
   ]
  },
  {
   "cell_type": "code",
   "execution_count": 60,
   "metadata": {},
   "outputs": [],
   "source": [
    "# adaptive momentum initialization\n",
    "def initialization_adam(L):\n",
    "    V = {} # for momentum gd\n",
    "    S = {}\n",
    "    \n",
    "    for l in range(1, L+1):\n",
    "        V[\"dW\" + str(l)] = 0\n",
    "        V[\"db\" + str(l)] = 0\n",
    "        S[\"dW\" + str(l)] = 0\n",
    "        S[\"db\" + str(l)] = 0\n",
    "    \n",
    "    return V, S"
   ]
  },
  {
   "cell_type": "code",
   "execution_count": 61,
   "metadata": {},
   "outputs": [],
   "source": [
    "# function to do one single forward propagation\n",
    "def forward_single_layer(A_prev, W_cur, b_cur, l, keep_prob, activation):\n",
    "    cache = []\n",
    "    Z_cur = np.dot(W_cur, A_prev) + b_cur\n",
    "    \n",
    "    cache = [A_prev, Z_cur, W_cur, b_cur]\n",
    "    \n",
    "    if activation == \"sigmoid\":\n",
    "        A_cur = 1 / (1 + np.exp(-Z_cur))\n",
    "        cache.append(\"sigmoid\")\n",
    "    elif activation == \"relu\":\n",
    "        A_cur = relu(Z_cur)\n",
    "        cache.append(\"relu\")\n",
    "    elif activation == \"softmax\":\n",
    "        A_cur = softmax(Z_cur)\n",
    "        cache.append(\"softmax\")\n",
    "    \n",
    "    # drop-out to prevent overfitting\n",
    "    keep_or_drop = np.random.rand(A_cur.shape[0], A_cur.shape[1])\n",
    "    keep_or_drop = (keep_or_drop < keep_prob).astype(float)\n",
    "    A_cur *= keep_or_drop\n",
    "    A_cur /= keep_prob\n",
    "    \n",
    "    cache.append(keep_or_drop)\n",
    "    cache.append(keep_prob)\n",
    "    \n",
    "    return A_cur, cache\n",
    "\n",
    "\n",
    "# function to do forward propagation through all layers\n",
    "def forward_multi_layers(X, params, L, keep_prob_s):\n",
    "    # keep_prob_s is the keep_prob for different layers\n",
    "    caches = []\n",
    "    A_prev = X\n",
    "    \n",
    "    \n",
    "    for l in range(1, L):\n",
    "        A, cache = forward_single_layer(A_prev, params[\"W\" + str(l)], params[\"b\" + str(l)], l, keep_prob_s[l-1], activation = \"relu\")\n",
    "        caches.append(cache)\n",
    "        A_prev = A\n",
    "        \n",
    "        \n",
    "    AL, cache = forward_single_layer(A_prev, params[\"W\" + str(L)], params[\"b\" + str(L)], L, keep_prob = 1., activation = \"softmax\")\n",
    "    caches.append(cache)\n",
    "    \n",
    "    return AL, caches"
   ]
  },
  {
   "cell_type": "code",
   "execution_count": 62,
   "metadata": {},
   "outputs": [],
   "source": [
    "# function to compute the loss of one batch\n",
    "def compute_Loss(AL, Y):\n",
    "    # this is not the exact loss of the current mini-batch, I use this to compute the cost after each epoch only\n",
    "    return - np.sum(np.sum(Y * np.log(AL), axis = 0, keepdims = True), axis = 1) "
   ]
  },
  {
   "cell_type": "code",
   "execution_count": 63,
   "metadata": {},
   "outputs": [],
   "source": [
    "# this function perform backprop to 1 layer back\n",
    "def backprop_single_layer(dA, cache, batch_size):\n",
    "    A_prev, Z_cur, W_cur, b_cur, _ , keep_or_drop, keep_prob = cache\n",
    "    grad = {}\n",
    "    \n",
    "    # I assume that we are doing backprop on hidden layers, all of which I use \"sigmoid\" activation function\n",
    "    dA *= keep_or_drop\n",
    "    dA /= keep_prob\n",
    "    dZ = dA * d_relu(Z_cur)\n",
    "    \n",
    "    dW = 1/batch_size * np.dot(dZ, A_prev.T)\n",
    "    db = 1/batch_size * np.sum(dZ, axis = 1, keepdims = True)\n",
    "    dA_prev = np.dot(W_cur.T, dZ)\n",
    "    \n",
    "    return dA_prev, dW, db\n",
    "\n",
    "# this function perform backpropagation throughout all layers\n",
    "def backprop_multi_layers(AL, Y, caches, batch_size):\n",
    "    assert(AL.shape == Y.shape)\n",
    "    dAL = AL - Y # derivative of the cost to the final layer (softmax function)\n",
    "    assert(AL.shape[1] == batch_size)\n",
    "    \n",
    "    dW = [None] * (L+1)\n",
    "    db = [None] * (L+1)\n",
    "    \n",
    "    dA_prev = dAL\n",
    "    for l in reversed(range(1, L+1)):\n",
    "        dA, dW[l], db[l] = backprop_single_layer(dA_prev, caches[l-1], batch_size = batch_size)\n",
    "        dA_prev = dA\n",
    "    \n",
    "    return dW, db"
   ]
  },
  {
   "cell_type": "code",
   "execution_count": 73,
   "metadata": {},
   "outputs": [],
   "source": [
    "# use adam optimization to update parameters\n",
    "def update(params, V, S, t, dW, db, alpha, beta1 = 0.8, beta2 = 0.999, epsilon = 1e-8):\n",
    "    V_corrected = {}\n",
    "    S_corrected = {}\n",
    "    for l in range(1, L+1):\n",
    "        \n",
    "        V[\"dW\" + str(l)] = beta1 * V[\"dW\" + str(l)] + (1-beta1) * dW[l]\n",
    "        V[\"db\" + str(l)] = beta1 * V[\"db\" + str(l)] + (1-beta1) * db[l]\n",
    "        V_corrected[\"dW\" + str(l)] = V[\"dW\" + str(l)] / (1 - np.power(beta1, t))\n",
    "        V_corrected[\"db\" + str(l)] = V[\"db\" + str(l)] / (1 - np.power(beta1, t))\n",
    "        \n",
    "        S[\"dW\" + str(l)] = beta2 * S[\"dW\" + str(l)] + (1-beta2) * (dW[l] **2)\n",
    "        S[\"db\" + str(l)] = beta2 * S[\"db\" + str(l)] + (1-beta2) * (db[l] **2)\n",
    "        S_corrected[\"dW\" + str(l)] = S[\"dW\" + str(l)] / (1 - np.power(beta2, t))\n",
    "        S_corrected[\"db\" + str(l)] = S[\"db\" + str(l)] / (1 - np.power(beta2, t))\n",
    "        \n",
    "        \n",
    "        \n",
    "        params[\"W\" + str(l)] -= alpha * V_corrected[\"dW\" + str(l)] / np.sqrt((S_corrected[\"dW\" + str(l)]) + epsilon)\n",
    "        params[\"b\" + str(l)] -= alpha * V_corrected[\"db\" + str(l)] / np.sqrt((S_corrected[\"db\" + str(l)]) + epsilon)\n",
    "        \n",
    "        #params[\"W\" + str(l)] -= alpha * dW[l]\n",
    "        #params[\"b\" + str(l)] -= alpha * db[l]\n",
    "        \n",
    "    return params, V, S"
   ]
  },
  {
   "cell_type": "code",
   "execution_count": null,
   "metadata": {},
   "outputs": [],
   "source": [
    "def train_neural_network(alpha, num_epoch, alpha_decay_rate, keep_prob_layers):\n",
    "    params = initialize_params(layers)\n",
    "    V, S = initialization_adam(L)\n",
    "    mini_batches = random_minibatches(X_train, Y_train, mini_batch_size = 2**8)\n",
    "    t = 1\n",
    "    \n",
    "    for num_epoch in range(0, num_epoch):\n",
    "        cost = 0\n",
    "        for mini in mini_batches:\n",
    "            (mini_X, mini_Y) = mini\n",
    "            cur_batch_size = mini_X.shape[1]\n",
    "            \n",
    "            # learning rate decay\n",
    "            alpha = alpha / (1 + alpha_decay_rate * num_epoch)\n",
    "\n",
    "            AL, caches = forward_multi_layers(mini_X, params, L, keep_prob_layers)\n",
    "            cost += compute_Loss(AL, mini_Y)\n",
    "\n",
    "            dW, db = backprop_multi_layers(AL, mini_Y, caches, batch_size = cur_batch_size)\n",
    "            \n",
    "\n",
    "            params, V, S = update(params, V, S, t, dW, db, alpha = alpha)\n",
    "            t += 1\n",
    "        \n",
    "        print(\"Epoch \" + str(num_epoch+1) + \" Training...\")\n",
    "        print(\"Cost after epoch \" + str(num_epoch+1) + \" = \" + str(1/m * cost))\n",
    "    return params"
   ]
  },
  {
   "cell_type": "code",
   "execution_count": 68,
   "metadata": {},
   "outputs": [],
   "source": [
    "def predict(X, params):\n",
    "    AL, _ = forward_multi_layers(X, params, L, keep_prob_s = [1, 1, 1]) # we have to turn off drop out during test time\n",
    "    \n",
    "    return AL"
   ]
  },
  {
   "cell_type": "code",
   "execution_count": 111,
   "metadata": {},
   "outputs": [
    {
     "name": "stdout",
     "output_type": "stream",
     "text": [
      "Start\n",
      "Epoch 1 Training...\n",
      "Cost after epoch 1 = [0.46595078]\n",
      "Epoch 2 Training...\n",
      "Cost after epoch 2 = [0.19158507]\n",
      "Epoch 3 Training...\n",
      "Cost after epoch 3 = [0.19225213]\n",
      "Epoch 4 Training...\n",
      "Cost after epoch 4 = [0.19268478]\n",
      "Epoch 5 Training...\n",
      "Cost after epoch 5 = [0.19393121]\n",
      "Epoch 6 Training...\n",
      "Cost after epoch 6 = [0.19237543]\n",
      "Epoch 7 Training...\n",
      "Cost after epoch 7 = [0.19152187]\n",
      "Epoch 8 Training...\n",
      "Cost after epoch 8 = [0.19204684]\n",
      "Epoch 9 Training...\n",
      "Cost after epoch 9 = [0.19225264]\n",
      "Epoch 10 Training...\n",
      "Cost after epoch 10 = [0.19398634]\n"
     ]
    },
    {
     "name": "stderr",
     "output_type": "stream",
     "text": [
      "C:\\Users\\nhunh\\Anaconda3\\lib\\site-packages\\ipykernel_launcher.py:8: RuntimeWarning: invalid value encountered in true_divide\n",
      "  \n"
     ]
    },
    {
     "name": "stdout",
     "output_type": "stream",
     "text": [
      "93.61\n",
      "\n",
      "Epoch 1 Training...\n",
      "Cost after epoch 1 = [0.45366312]\n"
     ]
    },
    {
     "ename": "KeyboardInterrupt",
     "evalue": "",
     "output_type": "error",
     "traceback": [
      "\u001b[1;31m---------------------------------------------------------------------------\u001b[0m",
      "\u001b[1;31mKeyboardInterrupt\u001b[0m                         Traceback (most recent call last)",
      "\u001b[1;32m<ipython-input-111-cadda8be0926>\u001b[0m in \u001b[0;36m<module>\u001b[1;34m\u001b[0m\n\u001b[0;32m      8\u001b[0m \u001b[1;32mfor\u001b[0m \u001b[0mi\u001b[0m \u001b[1;32min\u001b[0m \u001b[0mrange\u001b[0m\u001b[1;33m(\u001b[0m\u001b[1;36m0\u001b[0m\u001b[1;33m,\u001b[0m\u001b[1;36m5\u001b[0m\u001b[1;33m)\u001b[0m\u001b[1;33m:\u001b[0m\u001b[1;33m\u001b[0m\u001b[1;33m\u001b[0m\u001b[0m\n\u001b[0;32m      9\u001b[0m     parameters = train_neural_network(alpha = 0.005, num_epoch = 10, alpha_decay_rate = 1, \n\u001b[1;32m---> 10\u001b[1;33m                                   keep_prob_layers = [0.5, 0.5, 1])\n\u001b[0m\u001b[0;32m     11\u001b[0m     \u001b[0mpred_test\u001b[0m \u001b[1;33m=\u001b[0m \u001b[0mpredict\u001b[0m\u001b[1;33m(\u001b[0m\u001b[0mX_test\u001b[0m\u001b[1;33m,\u001b[0m \u001b[0mparameters\u001b[0m\u001b[1;33m)\u001b[0m\u001b[1;33m\u001b[0m\u001b[1;33m\u001b[0m\u001b[0m\n\u001b[0;32m     12\u001b[0m     \u001b[0mprint\u001b[0m\u001b[1;33m(\u001b[0m\u001b[0mnp\u001b[0m\u001b[1;33m.\u001b[0m\u001b[0msum\u001b[0m\u001b[1;33m(\u001b[0m\u001b[0mnp\u001b[0m\u001b[1;33m.\u001b[0m\u001b[0margmax\u001b[0m\u001b[1;33m(\u001b[0m\u001b[0mpred_test\u001b[0m\u001b[1;33m,\u001b[0m \u001b[0maxis\u001b[0m \u001b[1;33m=\u001b[0m \u001b[1;36m0\u001b[0m\u001b[1;33m)\u001b[0m \u001b[1;33m==\u001b[0m \u001b[0mY_test_hot\u001b[0m\u001b[1;33m)\u001b[0m \u001b[1;33m/\u001b[0m \u001b[0mm_test\u001b[0m \u001b[1;33m*\u001b[0m \u001b[1;36m100\u001b[0m\u001b[1;33m)\u001b[0m\u001b[1;33m\u001b[0m\u001b[1;33m\u001b[0m\u001b[0m\n",
      "\u001b[1;32m<ipython-input-74-81340e37bf66>\u001b[0m in \u001b[0;36mtrain_neural_network\u001b[1;34m(alpha, num_epoch, alpha_decay_rate, keep_prob_layers)\u001b[0m\n\u001b[0;32m     17\u001b[0m             \u001b[0mcost\u001b[0m \u001b[1;33m+=\u001b[0m \u001b[0mcompute_Loss\u001b[0m\u001b[1;33m(\u001b[0m\u001b[0mAL\u001b[0m\u001b[1;33m,\u001b[0m \u001b[0mmini_Y\u001b[0m\u001b[1;33m)\u001b[0m\u001b[1;33m\u001b[0m\u001b[1;33m\u001b[0m\u001b[0m\n\u001b[0;32m     18\u001b[0m \u001b[1;33m\u001b[0m\u001b[0m\n\u001b[1;32m---> 19\u001b[1;33m             \u001b[0mdW\u001b[0m\u001b[1;33m,\u001b[0m \u001b[0mdb\u001b[0m \u001b[1;33m=\u001b[0m \u001b[0mbackprop_multi_layers\u001b[0m\u001b[1;33m(\u001b[0m\u001b[0mAL\u001b[0m\u001b[1;33m,\u001b[0m \u001b[0mmini_Y\u001b[0m\u001b[1;33m,\u001b[0m \u001b[0mcaches\u001b[0m\u001b[1;33m,\u001b[0m \u001b[0mbatch_size\u001b[0m \u001b[1;33m=\u001b[0m \u001b[0mcur_batch_size\u001b[0m\u001b[1;33m)\u001b[0m\u001b[1;33m\u001b[0m\u001b[1;33m\u001b[0m\u001b[0m\n\u001b[0m\u001b[0;32m     20\u001b[0m \u001b[1;33m\u001b[0m\u001b[0m\n\u001b[0;32m     21\u001b[0m \u001b[1;33m\u001b[0m\u001b[0m\n",
      "\u001b[1;32m<ipython-input-63-b61f8f8a179f>\u001b[0m in \u001b[0;36mbackprop_multi_layers\u001b[1;34m(AL, Y, caches, batch_size)\u001b[0m\n\u001b[0;32m     26\u001b[0m     \u001b[0mdA_prev\u001b[0m \u001b[1;33m=\u001b[0m \u001b[0mdAL\u001b[0m\u001b[1;33m\u001b[0m\u001b[1;33m\u001b[0m\u001b[0m\n\u001b[0;32m     27\u001b[0m     \u001b[1;32mfor\u001b[0m \u001b[0ml\u001b[0m \u001b[1;32min\u001b[0m \u001b[0mreversed\u001b[0m\u001b[1;33m(\u001b[0m\u001b[0mrange\u001b[0m\u001b[1;33m(\u001b[0m\u001b[1;36m1\u001b[0m\u001b[1;33m,\u001b[0m \u001b[0mL\u001b[0m\u001b[1;33m+\u001b[0m\u001b[1;36m1\u001b[0m\u001b[1;33m)\u001b[0m\u001b[1;33m)\u001b[0m\u001b[1;33m:\u001b[0m\u001b[1;33m\u001b[0m\u001b[1;33m\u001b[0m\u001b[0m\n\u001b[1;32m---> 28\u001b[1;33m         \u001b[0mdA\u001b[0m\u001b[1;33m,\u001b[0m \u001b[0mdW\u001b[0m\u001b[1;33m[\u001b[0m\u001b[0ml\u001b[0m\u001b[1;33m]\u001b[0m\u001b[1;33m,\u001b[0m \u001b[0mdb\u001b[0m\u001b[1;33m[\u001b[0m\u001b[0ml\u001b[0m\u001b[1;33m]\u001b[0m \u001b[1;33m=\u001b[0m \u001b[0mbackprop_single_layer\u001b[0m\u001b[1;33m(\u001b[0m\u001b[0mdA_prev\u001b[0m\u001b[1;33m,\u001b[0m \u001b[0mcaches\u001b[0m\u001b[1;33m[\u001b[0m\u001b[0ml\u001b[0m\u001b[1;33m-\u001b[0m\u001b[1;36m1\u001b[0m\u001b[1;33m]\u001b[0m\u001b[1;33m,\u001b[0m \u001b[0mbatch_size\u001b[0m \u001b[1;33m=\u001b[0m \u001b[0mbatch_size\u001b[0m\u001b[1;33m)\u001b[0m\u001b[1;33m\u001b[0m\u001b[1;33m\u001b[0m\u001b[0m\n\u001b[0m\u001b[0;32m     29\u001b[0m         \u001b[0mdA_prev\u001b[0m \u001b[1;33m=\u001b[0m \u001b[0mdA\u001b[0m\u001b[1;33m\u001b[0m\u001b[1;33m\u001b[0m\u001b[0m\n\u001b[0;32m     30\u001b[0m \u001b[1;33m\u001b[0m\u001b[0m\n",
      "\u001b[1;32m<ipython-input-63-b61f8f8a179f>\u001b[0m in \u001b[0;36mbackprop_single_layer\u001b[1;34m(dA, cache, batch_size)\u001b[0m\n\u001b[0;32m     11\u001b[0m     \u001b[0mdW\u001b[0m \u001b[1;33m=\u001b[0m \u001b[1;36m1\u001b[0m\u001b[1;33m/\u001b[0m\u001b[0mbatch_size\u001b[0m \u001b[1;33m*\u001b[0m \u001b[0mnp\u001b[0m\u001b[1;33m.\u001b[0m\u001b[0mdot\u001b[0m\u001b[1;33m(\u001b[0m\u001b[0mdZ\u001b[0m\u001b[1;33m,\u001b[0m \u001b[0mA_prev\u001b[0m\u001b[1;33m.\u001b[0m\u001b[0mT\u001b[0m\u001b[1;33m)\u001b[0m\u001b[1;33m\u001b[0m\u001b[1;33m\u001b[0m\u001b[0m\n\u001b[0;32m     12\u001b[0m     \u001b[0mdb\u001b[0m \u001b[1;33m=\u001b[0m \u001b[1;36m1\u001b[0m\u001b[1;33m/\u001b[0m\u001b[0mbatch_size\u001b[0m \u001b[1;33m*\u001b[0m \u001b[0mnp\u001b[0m\u001b[1;33m.\u001b[0m\u001b[0msum\u001b[0m\u001b[1;33m(\u001b[0m\u001b[0mdZ\u001b[0m\u001b[1;33m,\u001b[0m \u001b[0maxis\u001b[0m \u001b[1;33m=\u001b[0m \u001b[1;36m1\u001b[0m\u001b[1;33m,\u001b[0m \u001b[0mkeepdims\u001b[0m \u001b[1;33m=\u001b[0m \u001b[1;32mTrue\u001b[0m\u001b[1;33m)\u001b[0m\u001b[1;33m\u001b[0m\u001b[1;33m\u001b[0m\u001b[0m\n\u001b[1;32m---> 13\u001b[1;33m     \u001b[0mdA_prev\u001b[0m \u001b[1;33m=\u001b[0m \u001b[0mnp\u001b[0m\u001b[1;33m.\u001b[0m\u001b[0mdot\u001b[0m\u001b[1;33m(\u001b[0m\u001b[0mW_cur\u001b[0m\u001b[1;33m.\u001b[0m\u001b[0mT\u001b[0m\u001b[1;33m,\u001b[0m \u001b[0mdZ\u001b[0m\u001b[1;33m)\u001b[0m\u001b[1;33m\u001b[0m\u001b[1;33m\u001b[0m\u001b[0m\n\u001b[0m\u001b[0;32m     14\u001b[0m \u001b[1;33m\u001b[0m\u001b[0m\n\u001b[0;32m     15\u001b[0m     \u001b[1;32mreturn\u001b[0m \u001b[0mdA_prev\u001b[0m\u001b[1;33m,\u001b[0m \u001b[0mdW\u001b[0m\u001b[1;33m,\u001b[0m \u001b[0mdb\u001b[0m\u001b[1;33m\u001b[0m\u001b[1;33m\u001b[0m\u001b[0m\n",
      "\u001b[1;31mKeyboardInterrupt\u001b[0m: "
     ]
    }
   ],
   "source": [
    "# Start training, you can try out different hyperparameters like learning rate as well as modify beta1 and beta2 for adam above\n",
    "# My choice of hyperparameters are probably not too good, you can try better ones\n",
    "\n",
    "print(\"Start\")\n",
    "accuracy_test = []\n",
    "params = []\n",
    "\n",
    "for i in range(0,5):\n",
    "    parameters = train_neural_network(alpha = 0.005, num_epoch = 10, alpha_decay_rate = 1, \n",
    "                                  keep_prob_layers = [0.5, 0.5, 1])\n",
    "    pred_test = predict(X_test, parameters)\n",
    "    print(np.sum(np.argmax(pred_test, axis = 0) == Y_test_hot) / m_test * 100)\n",
    "    print()\n",
    "    accuracy_test.append(np.sum(np.argmax(pred_test, axis = 0) == Y_test_hot) / m_test * 100)\n",
    "    params.append(parameters)\n",
    "\n",
    "# this is to test your trained model above   \n",
    "max_accuracy_idx = np.argmax(accuracy_test)\n",
    "parameters_final = params[max_accuracy_idx]\n",
    "\n",
    "pred_train = predict(X_train, parameters_final)\n",
    "print(\"Accuracy on training set: \" + str( np.sum(np.argmax(pred_train, axis = 0) == Y_train_hot) / m * 100 ) + \"%\")\n",
    "print(\"Accuracy on test set: \" + str(accuracy_test[max_accuracy_idx]) + \"%\")"
   ]
  },
  {
   "cell_type": "code",
   "execution_count": null,
   "metadata": {},
   "outputs": [],
   "source": []
  },
  {
   "cell_type": "code",
   "execution_count": null,
   "metadata": {},
   "outputs": [],
   "source": [
    "# create a file locally to save learned parameters\n",
    "#params_file = open(\"Name_of_the file\", \"w+\")\n",
    "#params_file.close()\n",
    "\n",
    "#Project_path = r\"Your_file_location\"\n",
    "\n",
    "#parameters_final\n",
    "#params_file = open(Project_path, \"wb\")\n",
    "#pickle.dump(parameters_final, params_file)\n",
    "\n",
    "#params_file.close()"
   ]
  },
  {
   "cell_type": "code",
   "execution_count": 118,
   "metadata": {},
   "outputs": [],
   "source": [
    "# this is the parameters of my pretrained model, with the accuracy of 95.08% on the test set\n",
    "def pretrain_model_accuracy():\n",
    "    params = pretrain_load()\n",
    "\n",
    "    pred_train = predict(X_train, params)\n",
    "    pred_test = predict(X_test, params)\n",
    "\n",
    "    # this is the accuracy of my model on traing set and on test set\n",
    "    print(\"Accuracy on training set: \" + str( np.sum(np.argmax(pred_train, axis = 0) == Y_train_hot) / m * 100 ) + \"%\")\n",
    "    print(\"Accuracy on test set: \" + str( np.sum(np.argmax(pred_test, axis = 0) == Y_test_hot) / m_test * 100 ) + \"%\")\n",
    "    "
   ]
  },
  {
   "cell_type": "code",
   "execution_count": 173,
   "metadata": {},
   "outputs": [],
   "source": [
    "# some examples of the digits that pre-trained model predicts correctly\n",
    "def test_correct_prediction():\n",
    "    params = pretrain_load()\n",
    "    pred_test = predict(X_test, params)\n",
    "    confidence = np.max(pred_test, axis = 0)\n",
    "    \n",
    "    res = (np.argmax(pred_test, axis = 0) == Y_test_hot).astype(float)\n",
    "    i=0\n",
    "    correct = []\n",
    "    for j in res:\n",
    "        if(len(correct) == 20):\n",
    "            break\n",
    "            \n",
    "        if j == 1:\n",
    "            correct.append(i)\n",
    "        i +=1\n",
    "        \n",
    "    for j in correct[0:10]:\n",
    "        print()\n",
    "        plt.imshow(test_images[j])\n",
    "        plt.show()\n",
    "        print(\"Correct prediction: \")\n",
    "        print(\"Model's prediction: \" + str(np.argmax(pred_test, axis = 0)[j]))\n",
    "        print(\"Confidence        :\"  + str(confidence[j] * 100) + \" %\")\n",
    "        print(\"Ground truth      : \" + str((Y_test_hot)[j]))\n",
    "        print(\"===============================\")\n",
    "        print(\"===============================\")        \n"
   ]
  },
  {
   "cell_type": "code",
   "execution_count": 174,
   "metadata": {},
   "outputs": [],
   "source": [
    "# some examples of the digits that pre-trained model predicts correctly\n",
    "def test_misclassify():\n",
    "    params = pretrain_load()\n",
    "    pred_test = predict(X_test, params)\n",
    "    confidence = np.max(pred_test, axis = 0)\n",
    "    \n",
    "    res = (np.argmax(pred_test, axis = 0) == Y_test_hot).astype(float)\n",
    "    i=0\n",
    "    correct = []\n",
    "    for j in res:\n",
    "        if(len(correct) == 20):\n",
    "            break\n",
    "            \n",
    "        if j == 0:\n",
    "            correct.append(i)\n",
    "        i +=1\n",
    "        \n",
    "    for j in correct[7:10]:\n",
    "        print()\n",
    "        plt.imshow(test_images[j])\n",
    "        plt.show()\n",
    "        print(\"Wrong prediction: \")\n",
    "        print(\"Model's prediction: \" + str(np.argmax(pred_test, axis = 0)[j]))\n",
    "        print(\"Confidence        :\"  + str(confidence[j] * 100) + \" %\")\n",
    "        print(\"Ground truth      : \" + str((Y_test_hot)[j]))\n",
    "        print(\"===============================\")\n",
    "        print(\"===============================\")        \n"
   ]
  },
  {
   "cell_type": "code",
   "execution_count": 175,
   "metadata": {},
   "outputs": [],
   "source": [
    "# This function is used to show the accuracy of pretrained model on training and test set, \n",
    "# and display some images in the test set\n",
    "def pre_trained_result():\n",
    "    print(\"SOME EXAMPLES: \")\n",
    "    print()\n",
    "    pretrain_model_accuracy()\n",
    "    print()\n",
    "    test_correct_prediction()\n",
    "    print()\n",
    "    test_misclassify()"
   ]
  },
  {
   "cell_type": "code",
   "execution_count": 176,
   "metadata": {},
   "outputs": [
    {
     "name": "stdout",
     "output_type": "stream",
     "text": [
      "SOME EXAMPLES: \n",
      "\n"
     ]
    },
    {
     "name": "stderr",
     "output_type": "stream",
     "text": [
      "C:\\Users\\nhunh\\Anaconda3\\lib\\site-packages\\ipykernel_launcher.py:8: RuntimeWarning: invalid value encountered in true_divide\n",
      "  \n"
     ]
    },
    {
     "name": "stdout",
     "output_type": "stream",
     "text": [
      "Accuracy on training set: 95.36666666666666%\n",
      "Accuracy on test set: 95.08%\n",
      "\n",
      "\n"
     ]
    },
    {
     "data": {
      "image/png": "[encoded data removed]",
      "text/plain": [
       "<Figure size 432x288 with 1 Axes>"
      ]
     },
     "metadata": {
      "needs_background": "light"
     },
     "output_type": "display_data"
    },
    {
     "name": "stdout",
     "output_type": "stream",
     "text": [
      "Correct prediction: \n",
      "Model's prediction: 7\n",
      "Confidence        :100.0 %\n",
      "Ground truth      : 7\n",
      "===============================\n",
      "===============================\n",
      "\n"
     ]
    },
    {
     "data": {
      "image/png": "[encoded data removed]",
      "text/plain": [
       "<Figure size 432x288 with 1 Axes>"
      ]
     },
     "metadata": {
      "needs_background": "light"
     },
     "output_type": "display_data"
    },
    {
     "name": "stdout",
     "output_type": "stream",
     "text": [
      "Correct prediction: \n",
      "Model's prediction: 2\n",
      "Confidence        :100.0 %\n",
      "Ground truth      : 2\n",
      "===============================\n",
      "===============================\n",
      "\n"
     ]
    },
    {
     "data": {
      "image/png": "[encoded data removed]",
      "text/plain": [
       "<Figure size 432x288 with 1 Axes>"
      ]
     },
     "metadata": {
      "needs_background": "light"
     },
     "output_type": "display_data"
    },
    {
     "name": "stdout",
     "output_type": "stream",
     "text": [
      "Correct prediction: \n",
      "Model's prediction: 1\n",
      "Confidence        :100.0 %\n",
      "Ground truth      : 1\n",
      "===============================\n",
      "===============================\n",
      "\n"
     ]
    },
    {
     "data": {
      "image/png": "[encoded data removed]",
      "text/plain": [
       "<Figure size 432x288 with 1 Axes>"
      ]
     },
     "metadata": {
      "needs_background": "light"
     },
     "output_type": "display_data"
    },
    {
     "name": "stdout",
     "output_type": "stream",
     "text": [
      "Correct prediction: \n",
      "Model's prediction: 0\n",
      "Confidence        :100.0 %\n",
      "Ground truth      : 0\n",
      "===============================\n",
      "===============================\n",
      "\n"
     ]
    },
    {
     "data": {
      "image/png": "[encoded data removed]",
      "text/plain": [
       "<Figure size 432x288 with 1 Axes>"
      ]
     },
     "metadata": {
      "needs_background": "light"
     },
     "output_type": "display_data"
    },
    {
     "name": "stdout",
     "output_type": "stream",
     "text": [
      "Correct prediction: \n",
      "Model's prediction: 4\n",
      "Confidence        :100.0 %\n",
      "Ground truth      : 4\n",
      "===============================\n",
      "===============================\n",
      "\n"
     ]
    },
    {
     "data": {
      "image/png": "[encoded data removed]",
      "text/plain": [
       "<Figure size 432x288 with 1 Axes>"
      ]
     },
     "metadata": {
      "needs_background": "light"
     },
     "output_type": "display_data"
    },
    {
     "name": "stdout",
     "output_type": "stream",
     "text": [
      "Correct prediction: \n",
      "Model's prediction: 1\n",
      "Confidence        :100.0 %\n",
      "Ground truth      : 1\n",
      "===============================\n",
      "===============================\n",
      "\n"
     ]
    },
    {
     "data": {
      "image/png": "[encoded data removed]",
      "text/plain": [
       "<Figure size 432x288 with 1 Axes>"
      ]
     },
     "metadata": {
      "needs_background": "light"
     },
     "output_type": "display_data"
    },
    {
     "name": "stdout",
     "output_type": "stream",
     "text": [
      "Correct prediction: \n",
      "Model's prediction: 4\n",
      "Confidence        :100.0 %\n",
      "Ground truth      : 4\n",
      "===============================\n",
      "===============================\n",
      "\n"
     ]
    },
    {
     "data": {
      "image/png": "[encoded data removed]",
      "text/plain": [
       "<Figure size 432x288 with 1 Axes>"
      ]
     },
     "metadata": {
      "needs_background": "light"
     },
     "output_type": "display_data"
    },
    {
     "name": "stdout",
     "output_type": "stream",
     "text": [
      "Correct prediction: \n",
      "Model's prediction: 9\n",
      "Confidence        :100.0 %\n",
      "Ground truth      : 9\n",
      "===============================\n",
      "===============================\n",
      "\n"
     ]
    },
    {
     "data": {
      "image/png": "[encoded data removed]",
      "text/plain": [
       "<Figure size 432x288 with 1 Axes>"
      ]
     },
     "metadata": {
      "needs_background": "light"
     },
     "output_type": "display_data"
    },
    {
     "name": "stdout",
     "output_type": "stream",
     "text": [
      "Correct prediction: \n",
      "Model's prediction: 9\n",
      "Confidence        :100.0 %\n",
      "Ground truth      : 9\n",
      "===============================\n",
      "===============================\n",
      "\n"
     ]
    },
    {
     "data": {
      "image/png": "[encoded data removed]",
      "text/plain": [
       "<Figure size 432x288 with 1 Axes>"
      ]
     },
     "metadata": {
      "needs_background": "light"
     },
     "output_type": "display_data"
    },
    {
     "name": "stdout",
     "output_type": "stream",
     "text": [
      "Correct prediction: \n",
      "Model's prediction: 0\n",
      "Confidence        :100.0 %\n",
      "Ground truth      : 0\n",
      "===============================\n",
      "===============================\n",
      "\n",
      "\n"
     ]
    },
    {
     "data": {
      "image/png": "[encoded data removed]",
      "text/plain": [
       "<Figure size 432x288 with 1 Axes>"
      ]
     },
     "metadata": {
      "needs_background": "light"
     },
     "output_type": "display_data"
    },
    {
     "name": "stdout",
     "output_type": "stream",
     "text": [
      "Wrong prediction: \n",
      "Model's prediction: 6\n",
      "Confidence        :99.94388003897136 %\n",
      "Ground truth      : 4\n",
      "===============================\n",
      "===============================\n",
      "\n"
     ]
    },
    {
     "data": {
      "image/png": "[encoded data removed]",
      "text/plain": [
       "<Figure size 432x288 with 1 Axes>"
      ]
     },
     "metadata": {
      "needs_background": "light"
     },
     "output_type": "display_data"
    },
    {
     "name": "stdout",
     "output_type": "stream",
     "text": [
      "Wrong prediction: \n",
      "Model's prediction: 0\n",
      "Confidence        :100.0 %\n",
      "Ground truth      : 6\n",
      "===============================\n",
      "===============================\n",
      "\n"
     ]
    },
    {
     "data": {
      "image/png": "[encoded data removed]",
      "text/plain": [
       "<Figure size 432x288 with 1 Axes>"
      ]
     },
     "metadata": {
      "needs_background": "light"
     },
     "output_type": "display_data"
    },
    {
     "name": "stdout",
     "output_type": "stream",
     "text": [
      "Wrong prediction: \n",
      "Model's prediction: 4\n",
      "Confidence        :100.0 %\n",
      "Ground truth      : 8\n",
      "===============================\n",
      "===============================\n"
     ]
    }
   ],
   "source": [
    "pre_trained_result()"
   ]
  },
  {
   "cell_type": "code",
   "execution_count": 107,
   "metadata": {},
   "outputs": [],
   "source": [
    "#img = test_images[290]\n",
    "#print(img.shape)\n",
    "#plt.imshow(img)"
   ]
  },
  {
   "cell_type": "code",
   "execution_count": null,
   "metadata": {},
   "outputs": [],
   "source": []
  }
 ],
 "metadata": {
  "kernelspec": {
   "display_name": "Python 3",
   "language": "python",
   "name": "python3"
  },
  "language_info": {
   "codemirror_mode": {
    "name": "ipython",
    "version": 3
   },
   "file_extension": ".py",
   "mimetype": "text/x-python",
   "name": "python",
   "nbconvert_exporter": "python",
   "pygments_lexer": "ipython3",
   "version": "3.7.4"
  }
 },
 "nbformat": 4,
 "nbformat_minor": 2
}
